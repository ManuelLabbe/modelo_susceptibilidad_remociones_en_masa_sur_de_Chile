{
 "cells": [
  {
   "cell_type": "code",
   "execution_count": 13,
   "metadata": {},
   "outputs": [],
   "source": [
    "import pandas as pd\n",
    "import numpy as np"
   ]
  },
  {
   "cell_type": "code",
   "execution_count": 14,
   "metadata": {},
   "outputs": [],
   "source": [
    "coso = pd.read_csv('data/coso.csv')\n",
    "new0 = pd.read_csv('data/New_DB_new0.csv')\n",
    "new0 = new0[['PP', 'slope', 'valor_humedad_suelo1', 'Latitud', 'Longitud']].dropna()\n",
    "coso = coso[['PP', 'slope', 'valor_humedad_suelo1', 'Latitud', 'Longitud']].dropna()\n",
    "\n",
    "data_0 = pd.read_csv('data/xterrae_data_0').dropna()\n",
    "data_1 = pd.read_csv('data/xterrae_data_1').dropna()\n",
    "\n",
    "data_0 = pd.merge(new0, data_0, on=['Latitud', 'Longitud'], how='inner')\n",
    "data_1 = pd.merge(coso, data_1, on=['Latitud', 'Longitud'], how='inner')\n",
    "\n",
    "data_0 = data_0.drop(columns=['Unnamed: 0', 'Latitud', 'Longitud'])\n",
    "data_1 = data_1.drop(columns=['Unnamed: 0', 'Latitud', 'Longitud'])\n",
    "data_0['Valor'] = 0\n",
    "data_1['Valor'] = 1\n",
    "\n",
    "final_db = pd.read_csv('data/final_db.csv')\n",
    "final_db = final_db.drop(columns='Unnamed: 0')"
   ]
  },
  {
   "cell_type": "code",
   "execution_count": 15,
   "metadata": {},
   "outputs": [
    {
     "name": "stdout",
     "output_type": "stream",
     "text": [
      "Todas las columnas de df1 están en df2.\n",
      "Todas las columnas de df2 están en df1.\n",
      "Todas las columnas de df1 están en df2.\n",
      "Todas las columnas de df2 están en df1.\n"
     ]
    }
   ],
   "source": [
    "#importe de funciones locales\n",
    "from util import comparar_columnas, eliminar_caracteristicas, prueba_umbral\n",
    "\n",
    "#Analizar si todas las columnas estan para luego concatenar\n",
    "comparar_columnas(final_db, data_0)\n",
    "comparar_columnas(final_db, data_1)"
   ]
  },
  {
   "cell_type": "code",
   "execution_count": 16,
   "metadata": {},
   "outputs": [],
   "source": [
    "# Concatenación y eliminación de valores NaN\n",
    "final = pd.concat([final_db, data_0])\n",
    "final = pd.concat([final, data_1])\n",
    "final = final.dropna()\n",
    "\n",
    "# Separación de los valores\n",
    "final_x = final.drop(columns='Valor')\n",
    "final_y = final.Valor\n"
   ]
  },
  {
   "cell_type": "code",
   "execution_count": 17,
   "metadata": {},
   "outputs": [
    {
     "name": "stdout",
     "output_type": "stream",
     "text": [
      "   Umbral  Caracteristicas eliminadas\n",
      "0    0.10                         136\n",
      "1    0.20                         135\n",
      "2    0.30                         131\n",
      "3    0.40                         130\n",
      "4    0.50                         128\n",
      "5    0.60                         128\n",
      "6    0.70                         122\n",
      "7    0.80                         113\n",
      "8    0.90                          91\n",
      "9    0.99                          38\n"
     ]
    }
   ],
   "source": [
    "# Prueba de características eliminadas a parti de diferentes valores de umbrales\n",
    "umbrales = [0.1, 0.2, 0.3, 0.4, 0.5, 0.6, 0.7, 0.8, 0.9, 0.99]\n",
    "resultados = prueba_umbral(final, umbrales=umbrales)\n",
    "print(resultados)"
   ]
  },
  {
   "cell_type": "code",
   "execution_count": 18,
   "metadata": {},
   "outputs": [
    {
     "name": "stdout",
     "output_type": "stream",
     "text": [
      "Dimensión del df después de eliminación por umbral: (3148, 99)\n"
     ]
    }
   ],
   "source": [
    "# Se reduce el df según el valor de umbral elegido\n",
    "df_reducido, num_eliminadas = eliminar_caracteristicas(final, 0.99)\n",
    "final = df_reducido\n",
    "print(f'Dimensión del df después de eliminación por umbral: {final.shape}')"
   ]
  },
  {
   "cell_type": "code",
   "execution_count": 19,
   "metadata": {},
   "outputs": [],
   "source": [
    "# Importaciones de funciones para generar los modelos\n",
    "# Importaciones de selección de características\n",
    "from feature_selection import cart_feature_selection, seleccion_caracteristicas_genetico\n",
    "from models_gen_X_y import xgboost_random_search, xgboost_bayesopt_classifier, mlp_binary_classification"
   ]
  },
  {
   "cell_type": "code",
   "execution_count": 20,
   "metadata": {},
   "outputs": [
    {
     "name": "stdout",
     "output_type": "stream",
     "text": [
      "Caracateristicas seleccionadas por cart: ['slope', 'valor_humedad_suelo1', 'PP', 'ksat_60-100cm.tif', 'PIRange_Clay.15-30cm.tif', 'PIRange_Bulkd.60-100cm.tif', 'PIRange_Clay.30-60cm.tif', 'PIRange_Clay.0-5cm.tif', 'PIRange_Clay.100-200cm.tif', 'PIRange_Clay.60-100cm.tif', 'Bulkd.60-100cm.tif', 'PIRange_Bulkd.5-15cm.tif', 'Clay.5-15cm.tif', 'Clay.15-30cm.tif', 'PIRange_Bulkd.100-200cm.tif', 'PIRange_Sand.15-30cm.tif', 'Clay.0-5cm.tif', 'Silt.15-30cm.tif', 'n_30-60cm.tif', 'PIRange_Sand.30-60cm.tif', 'n_5-15cm.tif', 'PIRange_Sand.60-100cm.tif', 'Bulkd.15-30cm.tif', 'PIRange_Sand.0-5cm.tif', 'ksat_100-200cm.tif', 'AvMoist.60-100cm.tif', 'ksat_5-15cm.tif', 'Sand.0-5cm.tif', 'n_60-100cm.tif', 'ksat.15-30cm.tif']\n"
     ]
    }
   ],
   "source": [
    "# Selección de características por cart y luego se establecen los dataframe con las características elegidas\n",
    "cart_features = cart_feature_selection(final, 'Valor', n_features=30)\n",
    "X = final[cart_features]\n",
    "y = final['Valor']\n",
    "print(f'Caracateristicas seleccionadas por cart: {cart_features}')"
   ]
  },
  {
   "cell_type": "code",
   "execution_count": 21,
   "metadata": {},
   "outputs": [
    {
     "name": "stdout",
     "output_type": "stream",
     "text": [
      "Número de muestras de entrenamiento: 2518, Número de muestras de prueba: 630\n",
      "Fitting 5 folds for each of 50 candidates, totalling 250 fits\n",
      "Precisión: 87.94%\n"
     ]
    },
    {
     "data": {
      "image/png": "[encoded data removed]",
      "text/plain": [
       "<Figure size 640x480 with 2 Axes>"
      ]
     },
     "metadata": {},
     "output_type": "display_data"
    },
    {
     "data": {
      "text/plain": [
       "{'best_model': XGBClassifier(base_score=None, booster=None, callbacks=None,\n",
       "               colsample_bylevel=None, colsample_bynode=None,\n",
       "               colsample_bytree=1.0, device=None, early_stopping_rounds=None,\n",
       "               enable_categorical=False, eval_metric='logloss',\n",
       "               feature_types=None, gamma=0.1, grow_policy=None,\n",
       "               importance_type=None, interaction_constraints=None,\n",
       "               learning_rate=0.1, max_bin=None, max_cat_threshold=None,\n",
       "               max_cat_to_onehot=None, max_delta_step=None, max_depth=5,\n",
       "               max_leaves=None, min_child_weight=None, missing=nan,\n",
       "               monotone_constraints=None, multi_strategy=None, n_estimators=500,\n",
       "               n_jobs=None, num_parallel_tree=None, random_state=42, ...),\n",
       " 'accuracy': 0.8793650793650793,\n",
       " 'best_params': {'subsample': 1.0,\n",
       "  'reg_lambda': 0,\n",
       "  'reg_alpha': 0.1,\n",
       "  'n_estimators': 500,\n",
       "  'max_depth': 5,\n",
       "  'learning_rate': 0.1,\n",
       "  'gamma': 0.1,\n",
       "  'colsample_bytree': 1.0}}"
      ]
     },
     "execution_count": 21,
     "metadata": {},
     "output_type": "execute_result"
    }
   ],
   "source": [
    "# Estancia para modelo de xgboost_random_search\n",
    "\n",
    "# Se define los parámetros a buscar para el ajuste del modelo\n",
    "param_grid = {\n",
    "        'max_depth': [3, 5, 7, 10],\n",
    "        'learning_rate': [0.01, 0.1, 0.2, 0.3],\n",
    "        'n_estimators': [100, 200, 300, 500],\n",
    "        'subsample': [0.6, 0.8, 1.0],\n",
    "        'colsample_bytree': [0.6, 0.8, 1.0],\n",
    "        'gamma': [0, 0.1, 0.2, 0.3],\n",
    "        'reg_alpha': [0, 0.1, 0.5, 1.0],\n",
    "        'reg_lambda': [0, 1.0, 10.0]\n",
    "        }\n",
    "xgboost_random_search(X, y, param_grid=param_grid)"
   ]
  },
  {
   "cell_type": "code",
   "execution_count": 22,
   "metadata": {},
   "outputs": [
    {
     "name": "stdout",
     "output_type": "stream",
     "text": [
      "Informe de clasificación\n",
      "              precision    recall  f1-score   support\n",
      "\n",
      "           0       0.75      0.74      0.75       306\n",
      "           1       0.76      0.77      0.76       324\n",
      "\n",
      "    accuracy                           0.75       630\n",
      "   macro avg       0.75      0.75      0.75       630\n",
      "weighted avg       0.75      0.75      0.75       630\n",
      "\n",
      "Matriz de confusión\n",
      "[[227  79]\n",
      " [ 76 248]]\n"
     ]
    },
    {
     "data": {
      "image/png": "[encoded data removed]",
      "text/plain": [
       "<Figure size 640x480 with 2 Axes>"
      ]
     },
     "metadata": {},
     "output_type": "display_data"
    },
    {
     "data": {
      "text/html": [
       "<style>#sk-container-id-3 {color: black;}#sk-container-id-3 pre{padding: 0;}#sk-container-id-3 div.sk-toggleable {background-color: white;}#sk-container-id-3 label.sk-toggleable__label {cursor: pointer;display: block;width: 100%;margin-bottom: 0;padding: 0.3em;box-sizing: border-box;text-align: center;}#sk-container-id-3 label.sk-toggleable__label-arrow:before {content: \"▸\";float: left;margin-right: 0.25em;color: #696969;}#sk-container-id-3 label.sk-toggleable__label-arrow:hover:before {color: black;}#sk-container-id-3 div.sk-estimator:hover label.sk-toggleable__label-arrow:before {color: black;}#sk-container-id-3 div.sk-toggleable__content {max-height: 0;max-width: 0;overflow: hidden;text-align: left;background-color: #f0f8ff;}#sk-container-id-3 div.sk-toggleable__content pre {margin: 0.2em;color: black;border-radius: 0.25em;background-color: #f0f8ff;}#sk-container-id-3 input.sk-toggleable__control:checked~div.sk-toggleable__content {max-height: 200px;max-width: 100%;overflow: auto;}#sk-container-id-3 input.sk-toggleable__control:checked~label.sk-toggleable__label-arrow:before {content: \"▾\";}#sk-container-id-3 div.sk-estimator input.sk-toggleable__control:checked~label.sk-toggleable__label {background-color: #d4ebff;}#sk-container-id-3 div.sk-label input.sk-toggleable__control:checked~label.sk-toggleable__label {background-color: #d4ebff;}#sk-container-id-3 input.sk-hidden--visually {border: 0;clip: rect(1px 1px 1px 1px);clip: rect(1px, 1px, 1px, 1px);height: 1px;margin: -1px;overflow: hidden;padding: 0;position: absolute;width: 1px;}#sk-container-id-3 div.sk-estimator {font-family: monospace;background-color: #f0f8ff;border: 1px dotted black;border-radius: 0.25em;box-sizing: border-box;margin-bottom: 0.5em;}#sk-container-id-3 div.sk-estimator:hover {background-color: #d4ebff;}#sk-container-id-3 div.sk-parallel-item::after {content: \"\";width: 100%;border-bottom: 1px solid gray;flex-grow: 1;}#sk-container-id-3 div.sk-label:hover label.sk-toggleable__label {background-color: #d4ebff;}#sk-container-id-3 div.sk-serial::before {content: \"\";position: absolute;border-left: 1px solid gray;box-sizing: border-box;top: 0;bottom: 0;left: 50%;z-index: 0;}#sk-container-id-3 div.sk-serial {display: flex;flex-direction: column;align-items: center;background-color: white;padding-right: 0.2em;padding-left: 0.2em;position: relative;}#sk-container-id-3 div.sk-item {position: relative;z-index: 1;}#sk-container-id-3 div.sk-parallel {display: flex;align-items: stretch;justify-content: center;background-color: white;position: relative;}#sk-container-id-3 div.sk-item::before, #sk-container-id-3 div.sk-parallel-item::before {content: \"\";position: absolute;border-left: 1px solid gray;box-sizing: border-box;top: 0;bottom: 0;left: 50%;z-index: -1;}#sk-container-id-3 div.sk-parallel-item {display: flex;flex-direction: column;z-index: 1;position: relative;background-color: white;}#sk-container-id-3 div.sk-parallel-item:first-child::after {align-self: flex-end;width: 50%;}#sk-container-id-3 div.sk-parallel-item:last-child::after {align-self: flex-start;width: 50%;}#sk-container-id-3 div.sk-parallel-item:only-child::after {width: 0;}#sk-container-id-3 div.sk-dashed-wrapped {border: 1px dashed gray;margin: 0 0.4em 0.5em 0.4em;box-sizing: border-box;padding-bottom: 0.4em;background-color: white;}#sk-container-id-3 div.sk-label label {font-family: monospace;font-weight: bold;display: inline-block;line-height: 1.2em;}#sk-container-id-3 div.sk-label-container {text-align: center;}#sk-container-id-3 div.sk-container {/* jupyter's `normalize.less` sets `[hidden] { display: none; }` but bootstrap.min.css set `[hidden] { display: none !important; }` so we also need the `!important` here to be able to override the default hidden behavior on the sphinx rendered scikit-learn.org. See: https://github.com/scikit-learn/scikit-learn/issues/21755 */display: inline-block !important;position: relative;}#sk-container-id-3 div.sk-text-repr-fallback {display: none;}</style><div id=\"sk-container-id-3\" class=\"sk-top-container\"><div class=\"sk-text-repr-fallback\"><pre>Pipeline(steps=[(&#x27;scaler&#x27;, StandardScaler()),\n",
       "                (&#x27;mlp&#x27;,\n",
       "                 MLPClassifier(hidden_layer_sizes=(100, 50), max_iter=500,\n",
       "                               random_state=42))])</pre><b>In a Jupyter environment, please rerun this cell to show the HTML representation or trust the notebook. <br />On GitHub, the HTML representation is unable to render, please try loading this page with nbviewer.org.</b></div><div class=\"sk-container\" hidden><div class=\"sk-item sk-dashed-wrapped\"><div class=\"sk-label-container\"><div class=\"sk-label sk-toggleable\"><input class=\"sk-toggleable__control sk-hidden--visually\" id=\"sk-estimator-id-8\" type=\"checkbox\" ><label for=\"sk-estimator-id-8\" class=\"sk-toggleable__label sk-toggleable__label-arrow\">Pipeline</label><div class=\"sk-toggleable__content\"><pre>Pipeline(steps=[(&#x27;scaler&#x27;, StandardScaler()),\n",
       "                (&#x27;mlp&#x27;,\n",
       "                 MLPClassifier(hidden_layer_sizes=(100, 50), max_iter=500,\n",
       "                               random_state=42))])</pre></div></div></div><div class=\"sk-serial\"><div class=\"sk-item\"><div class=\"sk-estimator sk-toggleable\"><input class=\"sk-toggleable__control sk-hidden--visually\" id=\"sk-estimator-id-9\" type=\"checkbox\" ><label for=\"sk-estimator-id-9\" class=\"sk-toggleable__label sk-toggleable__label-arrow\">StandardScaler</label><div class=\"sk-toggleable__content\"><pre>StandardScaler()</pre></div></div></div><div class=\"sk-item\"><div class=\"sk-estimator sk-toggleable\"><input class=\"sk-toggleable__control sk-hidden--visually\" id=\"sk-estimator-id-10\" type=\"checkbox\" ><label for=\"sk-estimator-id-10\" class=\"sk-toggleable__label sk-toggleable__label-arrow\">MLPClassifier</label><div class=\"sk-toggleable__content\"><pre>MLPClassifier(hidden_layer_sizes=(100, 50), max_iter=500, random_state=42)</pre></div></div></div></div></div></div></div>"
      ],
      "text/plain": [
       "Pipeline(steps=[('scaler', StandardScaler()),\n",
       "                ('mlp',\n",
       "                 MLPClassifier(hidden_layer_sizes=(100, 50), max_iter=500,\n",
       "                               random_state=42))])"
      ]
     },
     "execution_count": 22,
     "metadata": {},
     "output_type": "execute_result"
    }
   ],
   "source": [
    "mlp_binary_classification(X,y)"
   ]
  },
  {
   "cell_type": "code",
   "execution_count": 23,
   "metadata": {},
   "outputs": [
    {
     "name": "stdout",
     "output_type": "stream",
     "text": [
      "Fitting 3 folds for each of 50 candidates, totalling 150 fits\n"
     ]
    },
    {
     "name": "stderr",
     "output_type": "stream",
     "text": [
      "c:\\Users\\ivo\\.conda\\envs\\geotiff\\lib\\site-packages\\xgboost\\core.py:158: UserWarning: [14:16:18] WARNING: C:\\buildkite-agent\\builds\\buildkite-windows-cpu-autoscaling-group-i-06abd128ca6c1688d-1\\xgboost\\xgboost-ci-windows\\src\\learner.cc:740: \n",
      "Parameters: { \"use_label_encoder\" } are not used.\n",
      "\n",
      "  warnings.warn(smsg, UserWarning)\n"
     ]
    },
    {
     "name": "stdout",
     "output_type": "stream",
     "text": [
      "Mejores hiperparámetros encontrados:\n",
      "{'xgb__colsample_bytree': 0.7954166302845054, 'xgb__gamma': 0.015250124969524714, 'xgb__learning_rate': 0.046974706861722275, 'xgb__max_depth': 8, 'xgb__min_child_weight': 3.381022389395617, 'xgb__n_estimators': 543, 'xgb__subsample': 0.6633256208980205}\n",
      "\n",
      "Informe de clasificación:\n",
      "              precision    recall  f1-score   support\n",
      "\n",
      "           0       0.83      0.81      0.82       306\n",
      "           1       0.83      0.85      0.84       324\n",
      "\n",
      "    accuracy                           0.83       630\n",
      "   macro avg       0.83      0.83      0.83       630\n",
      "weighted avg       0.83      0.83      0.83       630\n",
      "\n",
      "\n",
      "Matriz de confusión:\n",
      "[[249  57]\n",
      " [ 50 274]]\n"
     ]
    },
    {
     "data": {
      "image/png": "[encoded data removed]",
      "text/plain": [
       "<Figure size 640x480 with 2 Axes>"
      ]
     },
     "metadata": {},
     "output_type": "display_data"
    },
    {
     "data": {
      "text/html": [
       "<style>#sk-container-id-4 {color: black;}#sk-container-id-4 pre{padding: 0;}#sk-container-id-4 div.sk-toggleable {background-color: white;}#sk-container-id-4 label.sk-toggleable__label {cursor: pointer;display: block;width: 100%;margin-bottom: 0;padding: 0.3em;box-sizing: border-box;text-align: center;}#sk-container-id-4 label.sk-toggleable__label-arrow:before {content: \"▸\";float: left;margin-right: 0.25em;color: #696969;}#sk-container-id-4 label.sk-toggleable__label-arrow:hover:before {color: black;}#sk-container-id-4 div.sk-estimator:hover label.sk-toggleable__label-arrow:before {color: black;}#sk-container-id-4 div.sk-toggleable__content {max-height: 0;max-width: 0;overflow: hidden;text-align: left;background-color: #f0f8ff;}#sk-container-id-4 div.sk-toggleable__content pre {margin: 0.2em;color: black;border-radius: 0.25em;background-color: #f0f8ff;}#sk-container-id-4 input.sk-toggleable__control:checked~div.sk-toggleable__content {max-height: 200px;max-width: 100%;overflow: auto;}#sk-container-id-4 input.sk-toggleable__control:checked~label.sk-toggleable__label-arrow:before {content: \"▾\";}#sk-container-id-4 div.sk-estimator input.sk-toggleable__control:checked~label.sk-toggleable__label {background-color: #d4ebff;}#sk-container-id-4 div.sk-label input.sk-toggleable__control:checked~label.sk-toggleable__label {background-color: #d4ebff;}#sk-container-id-4 input.sk-hidden--visually {border: 0;clip: rect(1px 1px 1px 1px);clip: rect(1px, 1px, 1px, 1px);height: 1px;margin: -1px;overflow: hidden;padding: 0;position: absolute;width: 1px;}#sk-container-id-4 div.sk-estimator {font-family: monospace;background-color: #f0f8ff;border: 1px dotted black;border-radius: 0.25em;box-sizing: border-box;margin-bottom: 0.5em;}#sk-container-id-4 div.sk-estimator:hover {background-color: #d4ebff;}#sk-container-id-4 div.sk-parallel-item::after {content: \"\";width: 100%;border-bottom: 1px solid gray;flex-grow: 1;}#sk-container-id-4 div.sk-label:hover label.sk-toggleable__label {background-color: #d4ebff;}#sk-container-id-4 div.sk-serial::before {content: \"\";position: absolute;border-left: 1px solid gray;box-sizing: border-box;top: 0;bottom: 0;left: 50%;z-index: 0;}#sk-container-id-4 div.sk-serial {display: flex;flex-direction: column;align-items: center;background-color: white;padding-right: 0.2em;padding-left: 0.2em;position: relative;}#sk-container-id-4 div.sk-item {position: relative;z-index: 1;}#sk-container-id-4 div.sk-parallel {display: flex;align-items: stretch;justify-content: center;background-color: white;position: relative;}#sk-container-id-4 div.sk-item::before, #sk-container-id-4 div.sk-parallel-item::before {content: \"\";position: absolute;border-left: 1px solid gray;box-sizing: border-box;top: 0;bottom: 0;left: 50%;z-index: -1;}#sk-container-id-4 div.sk-parallel-item {display: flex;flex-direction: column;z-index: 1;position: relative;background-color: white;}#sk-container-id-4 div.sk-parallel-item:first-child::after {align-self: flex-end;width: 50%;}#sk-container-id-4 div.sk-parallel-item:last-child::after {align-self: flex-start;width: 50%;}#sk-container-id-4 div.sk-parallel-item:only-child::after {width: 0;}#sk-container-id-4 div.sk-dashed-wrapped {border: 1px dashed gray;margin: 0 0.4em 0.5em 0.4em;box-sizing: border-box;padding-bottom: 0.4em;background-color: white;}#sk-container-id-4 div.sk-label label {font-family: monospace;font-weight: bold;display: inline-block;line-height: 1.2em;}#sk-container-id-4 div.sk-label-container {text-align: center;}#sk-container-id-4 div.sk-container {/* jupyter's `normalize.less` sets `[hidden] { display: none; }` but bootstrap.min.css set `[hidden] { display: none !important; }` so we also need the `!important` here to be able to override the default hidden behavior on the sphinx rendered scikit-learn.org. See: https://github.com/scikit-learn/scikit-learn/issues/21755 */display: inline-block !important;position: relative;}#sk-container-id-4 div.sk-text-repr-fallback {display: none;}</style><div id=\"sk-container-id-4\" class=\"sk-top-container\"><div class=\"sk-text-repr-fallback\"><pre>RandomizedSearchCV(cv=3,\n",
       "                   estimator=Pipeline(steps=[(&#x27;scaler&#x27;, StandardScaler()),\n",
       "                                             (&#x27;xgb&#x27;,\n",
       "                                              XGBClassifier(base_score=None,\n",
       "                                                            booster=None,\n",
       "                                                            callbacks=None,\n",
       "                                                            colsample_bylevel=None,\n",
       "                                                            colsample_bynode=None,\n",
       "                                                            colsample_bytree=None,\n",
       "                                                            device=None,\n",
       "                                                            early_stopping_rounds=None,\n",
       "                                                            enable_categorical=False,\n",
       "                                                            eval_metric=&#x27;logloss&#x27;,\n",
       "                                                            feature_types=None,\n",
       "                                                            gamma=None,\n",
       "                                                            grow_policy=None,\n",
       "                                                            importa...\n",
       "                                        &#x27;xgb__max_depth&#x27;: &lt;scipy.stats._distn_infrastructure.rv_discrete_frozen object at 0x0000023E641EA370&gt;,\n",
       "                                        &#x27;xgb__min_child_weight&#x27;: &lt;scipy.stats._distn_infrastructure.rv_continuous_frozen object at 0x0000023E39889F10&gt;,\n",
       "                                        &#x27;xgb__n_estimators&#x27;: &lt;scipy.stats._distn_infrastructure.rv_discrete_frozen object at 0x0000023E3989D070&gt;,\n",
       "                                        &#x27;xgb__subsample&#x27;: &lt;scipy.stats._distn_infrastructure.rv_continuous_frozen object at 0x0000023E398C1A60&gt;},\n",
       "                   random_state=42, verbose=1)</pre><b>In a Jupyter environment, please rerun this cell to show the HTML representation or trust the notebook. <br />On GitHub, the HTML representation is unable to render, please try loading this page with nbviewer.org.</b></div><div class=\"sk-container\" hidden><div class=\"sk-item sk-dashed-wrapped\"><div class=\"sk-label-container\"><div class=\"sk-label sk-toggleable\"><input class=\"sk-toggleable__control sk-hidden--visually\" id=\"sk-estimator-id-11\" type=\"checkbox\" ><label for=\"sk-estimator-id-11\" class=\"sk-toggleable__label sk-toggleable__label-arrow\">RandomizedSearchCV</label><div class=\"sk-toggleable__content\"><pre>RandomizedSearchCV(cv=3,\n",
       "                   estimator=Pipeline(steps=[(&#x27;scaler&#x27;, StandardScaler()),\n",
       "                                             (&#x27;xgb&#x27;,\n",
       "                                              XGBClassifier(base_score=None,\n",
       "                                                            booster=None,\n",
       "                                                            callbacks=None,\n",
       "                                                            colsample_bylevel=None,\n",
       "                                                            colsample_bynode=None,\n",
       "                                                            colsample_bytree=None,\n",
       "                                                            device=None,\n",
       "                                                            early_stopping_rounds=None,\n",
       "                                                            enable_categorical=False,\n",
       "                                                            eval_metric=&#x27;logloss&#x27;,\n",
       "                                                            feature_types=None,\n",
       "                                                            gamma=None,\n",
       "                                                            grow_policy=None,\n",
       "                                                            importa...\n",
       "                                        &#x27;xgb__max_depth&#x27;: &lt;scipy.stats._distn_infrastructure.rv_discrete_frozen object at 0x0000023E641EA370&gt;,\n",
       "                                        &#x27;xgb__min_child_weight&#x27;: &lt;scipy.stats._distn_infrastructure.rv_continuous_frozen object at 0x0000023E39889F10&gt;,\n",
       "                                        &#x27;xgb__n_estimators&#x27;: &lt;scipy.stats._distn_infrastructure.rv_discrete_frozen object at 0x0000023E3989D070&gt;,\n",
       "                                        &#x27;xgb__subsample&#x27;: &lt;scipy.stats._distn_infrastructure.rv_continuous_frozen object at 0x0000023E398C1A60&gt;},\n",
       "                   random_state=42, verbose=1)</pre></div></div></div><div class=\"sk-parallel\"><div class=\"sk-parallel-item\"><div class=\"sk-item\"><div class=\"sk-label-container\"><div class=\"sk-label sk-toggleable\"><input class=\"sk-toggleable__control sk-hidden--visually\" id=\"sk-estimator-id-12\" type=\"checkbox\" ><label for=\"sk-estimator-id-12\" class=\"sk-toggleable__label sk-toggleable__label-arrow\">estimator: Pipeline</label><div class=\"sk-toggleable__content\"><pre>Pipeline(steps=[(&#x27;scaler&#x27;, StandardScaler()),\n",
       "                (&#x27;xgb&#x27;,\n",
       "                 XGBClassifier(base_score=None, booster=None, callbacks=None,\n",
       "                               colsample_bylevel=None, colsample_bynode=None,\n",
       "                               colsample_bytree=None, device=None,\n",
       "                               early_stopping_rounds=None,\n",
       "                               enable_categorical=False, eval_metric=&#x27;logloss&#x27;,\n",
       "                               feature_types=None, gamma=None, grow_policy=None,\n",
       "                               importance_type=None,\n",
       "                               interaction_constraints=None, learning_rate=None,\n",
       "                               max_bin=None, max_cat_threshold=None,\n",
       "                               max_cat_to_onehot=None, max_delta_step=None,\n",
       "                               max_depth=None, max_leaves=None,\n",
       "                               min_child_weight=None, missing=nan,\n",
       "                               monotone_constraints=None, multi_strategy=None,\n",
       "                               n_estimators=None, n_jobs=None,\n",
       "                               num_parallel_tree=None, random_state=42, ...))])</pre></div></div></div><div class=\"sk-serial\"><div class=\"sk-item\"><div class=\"sk-serial\"><div class=\"sk-item\"><div class=\"sk-estimator sk-toggleable\"><input class=\"sk-toggleable__control sk-hidden--visually\" id=\"sk-estimator-id-13\" type=\"checkbox\" ><label for=\"sk-estimator-id-13\" class=\"sk-toggleable__label sk-toggleable__label-arrow\">StandardScaler</label><div class=\"sk-toggleable__content\"><pre>StandardScaler()</pre></div></div></div><div class=\"sk-item\"><div class=\"sk-estimator sk-toggleable\"><input class=\"sk-toggleable__control sk-hidden--visually\" id=\"sk-estimator-id-14\" type=\"checkbox\" ><label for=\"sk-estimator-id-14\" class=\"sk-toggleable__label sk-toggleable__label-arrow\">XGBClassifier</label><div class=\"sk-toggleable__content\"><pre>XGBClassifier(base_score=None, booster=None, callbacks=None,\n",
       "              colsample_bylevel=None, colsample_bynode=None,\n",
       "              colsample_bytree=None, device=None, early_stopping_rounds=None,\n",
       "              enable_categorical=False, eval_metric=&#x27;logloss&#x27;,\n",
       "              feature_types=None, gamma=None, grow_policy=None,\n",
       "              importance_type=None, interaction_constraints=None,\n",
       "              learning_rate=None, max_bin=None, max_cat_threshold=None,\n",
       "              max_cat_to_onehot=None, max_delta_step=None, max_depth=None,\n",
       "              max_leaves=None, min_child_weight=None, missing=nan,\n",
       "              monotone_constraints=None, multi_strategy=None, n_estimators=None,\n",
       "              n_jobs=None, num_parallel_tree=None, random_state=42, ...)</pre></div></div></div></div></div></div></div></div></div></div></div></div>"
      ],
      "text/plain": [
       "RandomizedSearchCV(cv=3,\n",
       "                   estimator=Pipeline(steps=[('scaler', StandardScaler()),\n",
       "                                             ('xgb',\n",
       "                                              XGBClassifier(base_score=None,\n",
       "                                                            booster=None,\n",
       "                                                            callbacks=None,\n",
       "                                                            colsample_bylevel=None,\n",
       "                                                            colsample_bynode=None,\n",
       "                                                            colsample_bytree=None,\n",
       "                                                            device=None,\n",
       "                                                            early_stopping_rounds=None,\n",
       "                                                            enable_categorical=False,\n",
       "                                                            eval_metric='logloss',\n",
       "                                                            feature_types=None,\n",
       "                                                            gamma=None,\n",
       "                                                            grow_policy=None,\n",
       "                                                            importa...\n",
       "                                        'xgb__max_depth': <scipy.stats._distn_infrastructure.rv_discrete_frozen object at 0x0000023E641EA370>,\n",
       "                                        'xgb__min_child_weight': <scipy.stats._distn_infrastructure.rv_continuous_frozen object at 0x0000023E39889F10>,\n",
       "                                        'xgb__n_estimators': <scipy.stats._distn_infrastructure.rv_discrete_frozen object at 0x0000023E3989D070>,\n",
       "                                        'xgb__subsample': <scipy.stats._distn_infrastructure.rv_continuous_frozen object at 0x0000023E398C1A60>},\n",
       "                   random_state=42, verbose=1)"
      ]
     },
     "execution_count": 23,
     "metadata": {},
     "output_type": "execute_result"
    }
   ],
   "source": [
    "xgboost_bayesopt_classifier(X,y)"
   ]
  },
  {
   "cell_type": "code",
   "execution_count": 24,
   "metadata": {},
   "outputs": [
    {
     "name": "stderr",
     "output_type": "stream",
     "text": [
      "C:\\Users\\ivo\\AppData\\Local\\Temp\\ipykernel_2232\\2406970788.py:8: SettingWithCopyWarning: \n",
      "A value is trying to be set on a copy of a slice from a DataFrame.\n",
      "Try using .loc[row_indexer,col_indexer] = value instead\n",
      "\n",
      "See the caveats in the documentation: https://pandas.pydata.org/pandas-docs/stable/user_guide/indexing.html#returning-a-view-versus-a-copy\n",
      "  data['Valor'] = final.Valor\n"
     ]
    },
    {
     "name": "stdout",
     "output_type": "stream",
     "text": [
      "Predicted probabilities: [0.2 0.  0.2 ... 0.2 0.2 0.6]\n",
      "Muestras no deslizamiento seleccionadas:\n",
      "          slope  valor_humedad_suelo1          PP  ksat_60-100cm.tif  \\\n",
      "0     32.357300              0.421875   13.532034         282.394012   \n",
      "1     32.357300              0.438995  238.139918         282.394012   \n",
      "2     37.497812              0.520004   32.059045         144.182007   \n",
      "3     36.717389              0.478973    0.000000          90.413002   \n",
      "4     60.517945              0.438095    2.191190         343.306000   \n",
      "...         ...                   ...         ...                ...   \n",
      "1162  24.327043              0.416611    0.674241         279.865997   \n",
      "1163  24.327043              0.416611    0.674241         261.084015   \n",
      "1164  24.641348              0.313675    1.054908         252.315994   \n",
      "1166  35.755171              0.306458    0.000000         120.091003   \n",
      "1167  40.502730              0.335510    0.000000         119.821999   \n",
      "\n",
      "      PIRange_Clay.15-30cm.tif  PIRange_Bulkd.60-100cm.tif  \\\n",
      "0                    22.490000                       0.650   \n",
      "1                    22.490000                       0.650   \n",
      "2                    25.268002                       0.706   \n",
      "3                    25.813000                       0.656   \n",
      "4                    18.743000                       0.660   \n",
      "...                        ...                         ...   \n",
      "1162                 25.160000                       0.648   \n",
      "1163                 25.082001                       0.644   \n",
      "1164                 24.950001                       0.642   \n",
      "1166                 26.760998                       0.657   \n",
      "1167                 27.098000                       0.669   \n",
      "\n",
      "      PIRange_Clay.30-60cm.tif  PIRange_Clay.0-5cm.tif  \\\n",
      "0                    26.009001               22.358000   \n",
      "1                    26.009001               22.358000   \n",
      "2                    31.559998               23.513000   \n",
      "3                    32.742996               25.056000   \n",
      "4                    21.934999               21.844999   \n",
      "...                        ...                     ...   \n",
      "1162                 31.753998               26.663998   \n",
      "1163                 31.809002               26.491001   \n",
      "1164                 31.700001               28.490000   \n",
      "1166                 33.229000               25.836998   \n",
      "1167                 33.653000               28.064001   \n",
      "\n",
      "      PIRange_Clay.100-200cm.tif  PIRange_Clay.60-100cm.tif  ...  \\\n",
      "0                      32.235001                  29.312000  ...   \n",
      "1                      32.235001                  29.312000  ...   \n",
      "2                      32.325001                  38.309998  ...   \n",
      "3                      45.129002                  39.369003  ...   \n",
      "4                      30.417000                  25.006001  ...   \n",
      "...                          ...                        ...  ...   \n",
      "1162                   45.535004                  38.932999  ...   \n",
      "1163                   45.632999                  39.013000  ...   \n",
      "1164                   47.789001                  38.739998  ...   \n",
      "1166                   44.098999                  39.952000  ...   \n",
      "1167                   45.316002                  40.355000  ...   \n",
      "\n",
      "      n_5-15cm.tif  PIRange_Sand.60-100cm.tif  Bulkd.15-30cm.tif  \\\n",
      "0            1.520                  44.574001              0.546   \n",
      "1            1.520                  44.574001              0.546   \n",
      "2            1.370                  46.751999              0.628   \n",
      "3            1.297                  37.791000              0.819   \n",
      "4            1.490                  42.887001              0.881   \n",
      "...            ...                        ...                ...   \n",
      "1162         1.362                  46.179001              0.726   \n",
      "1163         1.403                  45.993000              0.731   \n",
      "1164         1.357                  46.297001              0.824   \n",
      "1166         1.435                  46.610001              0.775   \n",
      "1167         1.350                  47.349998              0.792   \n",
      "\n",
      "      PIRange_Sand.0-5cm.tif  ksat_100-200cm.tif  AvMoist.60-100cm.tif  \\\n",
      "0                  36.184998          281.420990                 0.192   \n",
      "1                  36.184998          281.420990                 0.192   \n",
      "2                  36.636002          211.070007                 0.206   \n",
      "3                  34.499001           69.678001                 0.224   \n",
      "4                  36.883003          310.122009                 0.178   \n",
      "...                      ...                 ...                   ...   \n",
      "1162               36.374001          203.218994                 0.283   \n",
      "1163               36.174000          202.332993                 0.273   \n",
      "1164               36.351997          237.783997                 0.261   \n",
      "1166               37.070000           91.015999                 0.237   \n",
      "1167               38.124001           89.086998                 0.216   \n",
      "\n",
      "      ksat_5-15cm.tif  Sand.0-5cm.tif  n_60-100cm.tif  ksat.15-30cm.tif  \n",
      "0          315.993988       73.273003           1.446             0.606  \n",
      "1          315.993988       73.273003           1.446             0.606  \n",
      "2          211.750000       52.570000           1.372             0.396  \n",
      "3           78.719002       16.400000           1.334             0.123  \n",
      "4          239.182999       74.706001           1.510             0.569  \n",
      "...               ...             ...             ...               ...  \n",
      "1162       131.238998       28.066999           1.436             0.211  \n",
      "1163       144.242004       31.349001           1.430             0.237  \n",
      "1164       120.066002       33.570000           1.402             0.250  \n",
      "1166        58.084000       32.094002           1.403             0.246  \n",
      "1167        94.242996       45.729000           1.389             0.320  \n",
      "\n",
      "[1327 rows x 30 columns]\n"
     ]
    },
    {
     "name": "stderr",
     "output_type": "stream",
     "text": [
      "C:\\Users\\ivo\\AppData\\Local\\Temp\\ipykernel_2232\\2406970788.py:35: SettingWithCopyWarning: \n",
      "A value is trying to be set on a copy of a slice from a DataFrame.\n",
      "Try using .loc[row_indexer,col_indexer] = value instead\n",
      "\n",
      "See the caveats in the documentation: https://pandas.pydata.org/pandas-docs/stable/user_guide/indexing.html#returning-a-view-versus-a-copy\n",
      "  selected_non_landslide_samples['Valor'] = 0\n"
     ]
    }
   ],
   "source": [
    "# Se obtuvieron los valores de lo modelos con los datos raw\n",
    "# ahora se realiza la depuración mediante PUBagging para reentrenar los model\n",
    "# y comparar los resultados de los modelos sin/con PUBagging\n",
    "\n",
    "from pubagging import PUBagging\n",
    "\n",
    "data = final[cart_features]\n",
    "data['Valor'] = final.Valor\n",
    "data_aux_1 = data[data.Valor == 1]\n",
    "data_aux_0 = data[data.Valor == 0]\n",
    "data_aux_0 = data_aux_0.drop(columns='Valor')\n",
    "data_aux_1 = data_aux_1.drop(columns='Valor')\n",
    "\n",
    "landslide_samples = data_aux_1# Example landslide samples as DataFrame\n",
    "unlabeled_samples = data_aux_0# Example unlabeled samples as DataFrame\n",
    "\n",
    "pu_bagging = PUBagging(num_iterations=5, sample_ratio=0.4, random_state=42)\n",
    "\n",
    "pu_bagging.fit(landslide_samples, unlabeled_samples)\n",
    "\n",
    "probabilities = pu_bagging.predict_proba(unlabeled_samples)\n",
    "print(\"Predicted probabilities:\", probabilities)\n",
    "\n",
    "threshold = 0.5 \n",
    "\n",
    "# Filtrar muestras no deslizamiento por debajo del umbral\n",
    "non_landslide_indices = np.where(probabilities < threshold)[0]\n",
    "selected_non_landslide_samples = unlabeled_samples.iloc[non_landslide_indices]\n",
    "\n",
    "# Ejemplo de cómo podrías utilizar las muestras seleccionadas\n",
    "print(\"Muestras no deslizamiento seleccionadas:\")\n",
    "print(selected_non_landslide_samples)\n",
    "\n",
    "# Se crean los nuevos dataframe para el reentreno donde tenemos data y data_y como input y output respectivamente\n",
    "selected_non_landslide_samples['Valor'] = 0\n",
    "data_aux_1['Valor'] = 1\n",
    "\n",
    "data = pd.concat([data_aux_1, selected_non_landslide_samples])\n",
    "data_y = data['Valor']\n",
    "data = data.drop(columns=['Valor'])"
   ]
  },
  {
   "cell_type": "code",
   "execution_count": 25,
   "metadata": {},
   "outputs": [
    {
     "name": "stdout",
     "output_type": "stream",
     "text": [
      "Número de muestras de entrenamiento: 2356, Número de muestras de prueba: 589\n",
      "Fitting 5 folds for each of 50 candidates, totalling 250 fits\n",
      "Precisión: 86.08%\n"
     ]
    },
    {
     "data": {
      "image/png": "[encoded data removed]",
      "text/plain": [
       "<Figure size 640x480 with 2 Axes>"
      ]
     },
     "metadata": {},
     "output_type": "display_data"
    },
    {
     "data": {
      "text/plain": [
       "{'best_model': XGBClassifier(base_score=None, booster=None, callbacks=None,\n",
       "               colsample_bylevel=None, colsample_bynode=None,\n",
       "               colsample_bytree=0.8, device=None, early_stopping_rounds=None,\n",
       "               enable_categorical=False, eval_metric='logloss',\n",
       "               feature_types=None, gamma=0, grow_policy=None,\n",
       "               importance_type=None, interaction_constraints=None,\n",
       "               learning_rate=0.3, max_bin=None, max_cat_threshold=None,\n",
       "               max_cat_to_onehot=None, max_delta_step=None, max_depth=7,\n",
       "               max_leaves=None, min_child_weight=None, missing=nan,\n",
       "               monotone_constraints=None, multi_strategy=None, n_estimators=500,\n",
       "               n_jobs=None, num_parallel_tree=None, random_state=42, ...),\n",
       " 'accuracy': 0.8607809847198642,\n",
       " 'best_params': {'subsample': 1.0,\n",
       "  'reg_lambda': 1.0,\n",
       "  'reg_alpha': 0.5,\n",
       "  'n_estimators': 500,\n",
       "  'max_depth': 7,\n",
       "  'learning_rate': 0.3,\n",
       "  'gamma': 0,\n",
       "  'colsample_bytree': 0.8}}"
      ]
     },
     "execution_count": 25,
     "metadata": {},
     "output_type": "execute_result"
    }
   ],
   "source": [
    "# Se realiza el reentranmiento de los modelos con los datos ahora depurados\n",
    "xgboost_random_search(data, data_y, param_grid=param_grid)"
   ]
  },
  {
   "cell_type": "code",
   "execution_count": null,
   "metadata": {},
   "outputs": [],
   "source": []
  }
 ],
 "metadata": {
  "kernelspec": {
   "display_name": "geotiff",
   "language": "python",
   "name": "python3"
  },
  "language_info": {
   "codemirror_mode": {
    "name": "ipython",
    "version": 3
   },
   "file_extension": ".py",
   "mimetype": "text/x-python",
   "name": "python",
   "nbconvert_exporter": "python",
   "pygments_lexer": "ipython3",
   "version": "3.8.0"
  }
 },
 "nbformat": 4,
 "nbformat_minor": 2
}
